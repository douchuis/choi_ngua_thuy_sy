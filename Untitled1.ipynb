{
 "cells": [
  {
   "cell_type": "code",
   "execution_count": 2,
   "metadata": {},
   "outputs": [],
   "source": [
    "import requests\n",
    "from bs4 import BeautifulSoup\n",
    "import time "
   ]
  },
  {
   "cell_type": "code",
   "execution_count": 3,
   "metadata": {},
   "outputs": [
    {
     "name": "stdout",
     "output_type": "stream",
     "text": [
      "<section class=\"race-card__layout\" data-reactid=\"43\"><nav class=\"tabs__wrapper\" data-reactid=\"44\"><ul class=\"tabs__tab-list\" data-reactid=\"45\"><li class=\"tabs__tab-container tabs__tab-container--selected\" data-reactid=\"46\"><p class=\"tabs__label-heading\" data-reactid=\"47\">RAPPORTS</p></li><li class=\"tabs__tab-container\" data-reactid=\"48\"><p class=\"tabs__label-heading\" data-reactid=\"49\">ARRIVÉES</p></li><li class=\"tabs__tab-container\" data-reactid=\"50\"><p class=\"tabs__label-heading\" data-reactid=\"51\">PARTICIPANTS</p></li></ul></nav><header class=\"reports-tab-content__header\" data-reactid=\"52\"><p data-reactid=\"53\">Les résultats ne sont pas encore disponibles</p></header><section class=\"reports-tab-content__reports-wrapper\" data-reactid=\"54\"><section data-reactid=\"55\"><div class=\"collapsible\" data-reactid=\"56\"></div></section></section></section>\n",
      "----------------------------------------------------------------------------------------------------\n",
      "None\n"
     ]
    }
   ],
   "source": [
    "# specify the url\n",
    "url ='https://jeux.loro.ch/horses/raceCard/20200408_R2_R2C5'\n",
    "response = requests.get(url)\n",
    "if response.ok:\n",
    "    soup = BeautifulSoup(response.text, 'lxml')\n",
    "    name = soup.find('section',{'class':'race-card__layout'})\n",
    "    print(name)\n",
    "    print('--'*50)\n",
    "    section = name.find('section',{'class':'participants-tab-content__layout'})\n",
    "    print(section)\n",
    "#     print('--'*50)\n",
    "    \n",
    "#     namehorse = name.findAll('div')\n",
    "#     print(namehorse)\n",
    "#     namehorse1 = namehorse.find('div',{'class':'participant-list__item-inner'})\n",
    "#     print(namehorse1)\n",
    "\n",
    "#     namehorse1 = name.find('span',{'class':'participant-list__item-info__horse-name'})\n",
    "#         print(namehorse1)\n",
    "#     .find('span',{'class':'participant-list__item-info__horse-name'})\n",
    "\n",
    "    "
   ]
  },
  {
   "cell_type": "code",
   "execution_count": null,
   "metadata": {},
   "outputs": [],
   "source": [
    "print('--'*50)"
   ]
  },
  {
   "cell_type": "code",
   "execution_count": null,
   "metadata": {},
   "outputs": [],
   "source": []
  }
 ],
 "metadata": {
  "kernelspec": {
   "display_name": "Python 3",
   "language": "python",
   "name": "python3"
  },
  "language_info": {
   "codemirror_mode": {
    "name": "ipython",
    "version": 3
   },
   "file_extension": ".py",
   "mimetype": "text/x-python",
   "name": "python",
   "nbconvert_exporter": "python",
   "pygments_lexer": "ipython3",
   "version": "3.7.4"
  }
 },
 "nbformat": 4,
 "nbformat_minor": 2
}
