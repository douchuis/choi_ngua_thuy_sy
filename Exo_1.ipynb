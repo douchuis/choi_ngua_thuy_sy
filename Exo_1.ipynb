{
 "cells": [
  {
   "cell_type": "code",
   "execution_count": 45,
   "metadata": {},
   "outputs": [],
   "source": [
    "import requests\n",
    "from bs4 import BeautifulSoup\n",
    "import time "
   ]
  },
  {
   "cell_type": "code",
   "execution_count": 1,
   "metadata": {},
   "outputs": [
    {
     "ename": "NameError",
     "evalue": "name 'requests' is not defined",
     "output_type": "error",
     "traceback": [
      "\u001b[1;31m---------------------------------------------------------------------------\u001b[0m",
      "\u001b[1;31mNameError\u001b[0m                                 Traceback (most recent call last)",
      "\u001b[1;32m<ipython-input-1-9957b3b7c6bd>\u001b[0m in \u001b[0;36m<module>\u001b[1;34m\u001b[0m\n\u001b[0;32m      1\u001b[0m \u001b[0murl\u001b[0m \u001b[1;33m=\u001b[0m \u001b[1;34m'https://www.pmu.fr/turf/05042020/R2/C6'\u001b[0m\u001b[1;33m\u001b[0m\u001b[1;33m\u001b[0m\u001b[0m\n\u001b[0;32m      2\u001b[0m \u001b[1;31m# url ='http://www.fasttrack.co.uk/league-tables/tech-track-100/league-table/'\u001b[0m\u001b[1;33m\u001b[0m\u001b[1;33m\u001b[0m\u001b[1;33m\u001b[0m\u001b[0m\n\u001b[1;32m----> 3\u001b[1;33m \u001b[0mresponse\u001b[0m \u001b[1;33m=\u001b[0m \u001b[0mrequests\u001b[0m\u001b[1;33m.\u001b[0m\u001b[0mget\u001b[0m\u001b[1;33m(\u001b[0m\u001b[0murl\u001b[0m\u001b[1;33m)\u001b[0m\u001b[1;33m\u001b[0m\u001b[1;33m\u001b[0m\u001b[0m\n\u001b[0m\u001b[0;32m      4\u001b[0m \u001b[0mprint\u001b[0m\u001b[1;33m(\u001b[0m\u001b[0mresponse\u001b[0m\u001b[1;33m)\u001b[0m\u001b[1;33m\u001b[0m\u001b[1;33m\u001b[0m\u001b[0m\n\u001b[0;32m      5\u001b[0m \u001b[1;33m\u001b[0m\u001b[0m\n",
      "\u001b[1;31mNameError\u001b[0m: name 'requests' is not defined"
     ]
    }
   ],
   "source": [
    "url = 'https://www.pmu.fr/turf/05042020/R2/C6'\n",
    "# url ='http://www.fasttrack.co.uk/league-tables/tech-track-100/league-table/'\n",
    "response = requests.get(url)\n",
    "print(response)\n",
    "\n",
    "if response.ok:\n",
    "    soup = BeautifulSoup(response.text,'lxml')\n",
    "    print(soup.title.text)\n",
    "    print(soup)\n",
    "    print('---'*40)\n",
    "    namePlayer = soup.findAll('div')\n",
    "#     nameP1 = namePlayer.find('div',{'class':'lock-content'})\n",
    "    print(namePlayer)\n",
    "    print('---'*40)\n",
    "    print(nameP1)\n",
    "\n",
    "    \n",
    "#     for name in name_player:\n",
    "#         nameHorse = name.find('p',{'class':'participants-name'})\n",
    "#         print('Name: ' + nameHorse.text + ' ')\n",
    "# #     win_odd = soup.findAll('td',{'class':'participants-tbody-td participants-tbody-td--rapport-probable-first'})\n",
    "#     for odd in win_odd:\n",
    "#         print('Win odds: '+ odd +'\\n')\n",
    "#     outf.write(country.text + ',' + pop.text.replace(',','') + '\\n')"
   ]
  },
  {
   "cell_type": "code",
   "execution_count": null,
   "metadata": {},
   "outputs": [],
   "source": []
  },
  {
   "cell_type": "code",
   "execution_count": null,
   "metadata": {},
   "outputs": [],
   "source": []
  }
 ],
 "metadata": {
  "kernelspec": {
   "display_name": "Python 3",
   "language": "python",
   "name": "python3"
  },
  "language_info": {
   "codemirror_mode": {
    "name": "ipython",
    "version": 3
   },
   "file_extension": ".py",
   "mimetype": "text/x-python",
   "name": "python",
   "nbconvert_exporter": "python",
   "pygments_lexer": "ipython3",
   "version": "3.7.4"
  }
 },
 "nbformat": 4,
 "nbformat_minor": 2
}
