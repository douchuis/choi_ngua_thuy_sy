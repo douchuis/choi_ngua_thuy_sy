{
 "cells": [
  {
   "cell_type": "code",
   "execution_count": 1,
   "metadata": {},
   "outputs": [],
   "source": [
    "import scrapWebPmu\n",
    "from time import time"
   ]
  },
  {
   "cell_type": "code",
   "execution_count": 2,
   "metadata": {},
   "outputs": [
    {
     "name": "stdout",
     "output_type": "stream",
     "text": [
      "le nombre de chevaux dans la course\n",
      "0\n",
      "----------------------------------------\n",
      "0\n",
      "----------------------------------------\n",
      "la liste des chevaux partants\n",
      "[]\n",
      "time cost: 12.67063 sec\n"
     ]
    }
   ],
   "source": [
    "start = time()\n",
    "\n",
    "dataFile = scrapWebPmu.pmuScrapingRomande('https://jeux.loro.ch/horses/races?date=2020-04-18')\n",
    "\n",
    "end = time()\n",
    "\n",
    "running_time = end - start\n",
    "\n",
    "print('time cost: %.5f sec' %running_time)"
   ]
  },
  {
   "cell_type": "code",
   "execution_count": 3,
   "metadata": {},
   "outputs": [
    {
     "data": {
      "text/html": [
       "<div>\n",
       "<style scoped>\n",
       "    .dataframe tbody tr th:only-of-type {\n",
       "        vertical-align: middle;\n",
       "    }\n",
       "\n",
       "    .dataframe tbody tr th {\n",
       "        vertical-align: top;\n",
       "    }\n",
       "\n",
       "    .dataframe thead th {\n",
       "        text-align: right;\n",
       "    }\n",
       "</style>\n",
       "<table border=\"1\" class=\"dataframe\">\n",
       "  <thead>\n",
       "    <tr style=\"text-align: right;\">\n",
       "      <th></th>\n",
       "      <th>number</th>\n",
       "      <th>name_horse</th>\n",
       "      <th>horse_age</th>\n",
       "      <th>weight</th>\n",
       "      <th>race_place</th>\n",
       "      <th>distance</th>\n",
       "      <th>prize</th>\n",
       "      <th>win_odd</th>\n",
       "      <th>draw</th>\n",
       "      <th>entraineur</th>\n",
       "      <th>proprietaire</th>\n",
       "      <th>sex</th>\n",
       "    </tr>\n",
       "  </thead>\n",
       "  <tbody>\n",
       "  </tbody>\n",
       "</table>\n",
       "</div>"
      ],
      "text/plain": [
       "Empty DataFrame\n",
       "Columns: [number, name_horse, horse_age, weight, race_place, distance, prize, win_odd, draw, entraineur, proprietaire, sex]\n",
       "Index: []"
      ]
     },
     "execution_count": 3,
     "metadata": {},
     "output_type": "execute_result"
    }
   ],
   "source": [
    "import pandas as pd\n",
    "lire = pd.read_csv(dataFile)\n",
    "lire.head(12)"
   ]
  },
  {
   "cell_type": "code",
   "execution_count": 4,
   "metadata": {},
   "outputs": [],
   "source": [
    "import predictionHorseRace as pred\n"
   ]
  },
  {
   "cell_type": "code",
   "execution_count": 5,
   "metadata": {},
   "outputs": [
    {
     "name": "stderr",
     "output_type": "stream",
     "text": [
      "Using TensorFlow backend.\n"
     ]
    },
    {
     "name": "stdout",
     "output_type": "stream",
     "text": [
      "Train on 75824 samples, validate on 18957 samples\n",
      "Epoch 1/30\n",
      "75824/75824 [==============================] - 2s 32us/step - loss: 0.5763 - accuracy: 0.6953 - val_loss: 0.5550 - val_accuracy: 0.7091\n",
      "Epoch 2/30\n",
      "75824/75824 [==============================] - 3s 39us/step - loss: 0.5577 - accuracy: 0.7095 - val_loss: 0.5515 - val_accuracy: 0.7130\n",
      "Epoch 3/30\n",
      "75824/75824 [==============================] - 2s 32us/step - loss: 0.5552 - accuracy: 0.7121 - val_loss: 0.5501 - val_accuracy: 0.7156\n",
      "Epoch 4/30\n",
      "75824/75824 [==============================] - 2s 30us/step - loss: 0.5540 - accuracy: 0.7135 - val_loss: 0.5487 - val_accuracy: 0.7161\n",
      "Epoch 5/30\n",
      "75824/75824 [==============================] - 2s 30us/step - loss: 0.5531 - accuracy: 0.7140 - val_loss: 0.5476 - val_accuracy: 0.7166\n",
      "Epoch 6/30\n",
      "75824/75824 [==============================] - 3s 34us/step - loss: 0.5525 - accuracy: 0.7143 - val_loss: 0.5475 - val_accuracy: 0.7176\n",
      "Epoch 7/30\n",
      "75824/75824 [==============================] - 2s 32us/step - loss: 0.5521 - accuracy: 0.7147 - val_loss: 0.5477 - val_accuracy: 0.7150\n",
      "Epoch 8/30\n",
      "75824/75824 [==============================] - 2s 32us/step - loss: 0.5520 - accuracy: 0.7156 - val_loss: 0.5473 - val_accuracy: 0.7161\n",
      "Epoch 9/30\n",
      "75824/75824 [==============================] - 2s 32us/step - loss: 0.5519 - accuracy: 0.7156 - val_loss: 0.5468 - val_accuracy: 0.7159\n",
      "Epoch 10/30\n",
      "75824/75824 [==============================] - 2s 31us/step - loss: 0.5517 - accuracy: 0.7154 - val_loss: 0.5471 - val_accuracy: 0.7153\n",
      "Epoch 11/30\n",
      "75824/75824 [==============================] - 2s 27us/step - loss: 0.5517 - accuracy: 0.7159 - val_loss: 0.5469 - val_accuracy: 0.7159\n",
      "Epoch 12/30\n",
      "75824/75824 [==============================] - 2s 27us/step - loss: 0.5516 - accuracy: 0.7157 - val_loss: 0.5468 - val_accuracy: 0.7155\n",
      "Epoch 13/30\n",
      "75824/75824 [==============================] - 2s 28us/step - loss: 0.5514 - accuracy: 0.7162 - val_loss: 0.5469 - val_accuracy: 0.7148\n",
      "Epoch 14/30\n",
      "75824/75824 [==============================] - 2s 28us/step - loss: 0.5514 - accuracy: 0.7156 - val_loss: 0.5465 - val_accuracy: 0.7160\n",
      "Epoch 15/30\n",
      "75824/75824 [==============================] - 2s 27us/step - loss: 0.5513 - accuracy: 0.7152 - val_loss: 0.5466 - val_accuracy: 0.7185\n",
      "Epoch 16/30\n",
      "75824/75824 [==============================] - 2s 27us/step - loss: 0.5513 - accuracy: 0.7154 - val_loss: 0.5467 - val_accuracy: 0.7166\n",
      "Epoch 17/30\n",
      "75824/75824 [==============================] - 2s 26us/step - loss: 0.5512 - accuracy: 0.7161 - val_loss: 0.5466 - val_accuracy: 0.7145\n",
      "Epoch 18/30\n",
      "75824/75824 [==============================] - 2s 27us/step - loss: 0.5512 - accuracy: 0.7152 - val_loss: 0.5465 - val_accuracy: 0.7149\n",
      "Epoch 19/30\n",
      "75824/75824 [==============================] - 2s 28us/step - loss: 0.5511 - accuracy: 0.7154 - val_loss: 0.5467 - val_accuracy: 0.7148\n",
      "Epoch 20/30\n",
      "75824/75824 [==============================] - 2s 29us/step - loss: 0.5512 - accuracy: 0.7159 - val_loss: 0.5467 - val_accuracy: 0.7150\n",
      "Epoch 21/30\n",
      "75824/75824 [==============================] - 2s 31us/step - loss: 0.5512 - accuracy: 0.7154 - val_loss: 0.5465 - val_accuracy: 0.7150\n",
      "Epoch 22/30\n",
      "75824/75824 [==============================] - 2s 27us/step - loss: 0.5512 - accuracy: 0.7161 - val_loss: 0.5472 - val_accuracy: 0.7152\n",
      "Epoch 23/30\n",
      "75824/75824 [==============================] - 2s 28us/step - loss: 0.5512 - accuracy: 0.7153 - val_loss: 0.5463 - val_accuracy: 0.7159\n",
      "Epoch 24/30\n",
      "75824/75824 [==============================] - 2s 29us/step - loss: 0.5509 - accuracy: 0.7155 - val_loss: 0.5460 - val_accuracy: 0.7154\n",
      "Epoch 25/30\n",
      "75824/75824 [==============================] - 2s 28us/step - loss: 0.5511 - accuracy: 0.7151 - val_loss: 0.5462 - val_accuracy: 0.7169\n",
      "Epoch 26/30\n",
      "75824/75824 [==============================] - 2s 29us/step - loss: 0.5510 - accuracy: 0.7151 - val_loss: 0.5462 - val_accuracy: 0.7169\n",
      "Epoch 27/30\n",
      "75824/75824 [==============================] - 3s 38us/step - loss: 0.5510 - accuracy: 0.7149 - val_loss: 0.5458 - val_accuracy: 0.7148\n",
      "Epoch 28/30\n",
      "75824/75824 [==============================] - 2s 32us/step - loss: 0.5510 - accuracy: 0.7158 - val_loss: 0.5460 - val_accuracy: 0.7146\n",
      "Epoch 29/30\n",
      "75824/75824 [==============================] - 2s 33us/step - loss: 0.5510 - accuracy: 0.7154 - val_loss: 0.5465 - val_accuracy: 0.7153\n",
      "Epoch 30/30\n",
      "75824/75824 [==============================] - 3s 33us/step - loss: 0.5510 - accuracy: 0.7155 - val_loss: 0.5461 - val_accuracy: 0.7153\n",
      "La prédiction du modèle:\n",
      "[[False]\n",
      " [ True]\n",
      " [False]\n",
      " ...\n",
      " [ True]\n",
      " [ True]\n",
      " [ True]]\n",
      "La confusion matrice du modèle: \n",
      "[[14206  6231]\n",
      " [ 5513 14671]]\n",
      "Le rapport du modèle: \n",
      "              precision    recall  f1-score   support\n",
      "\n",
      "         0.0       0.72      0.70      0.71     20437\n",
      "         1.0       0.70      0.73      0.71     20184\n",
      "\n",
      "    accuracy                           0.71     40621\n",
      "   macro avg       0.71      0.71      0.71     40621\n",
      "weighted avg       0.71      0.71      0.71     40621\n",
      "\n",
      "la donnée collectée: \n",
      "Empty DataFrame\n",
      "Columns: [number, name_horse, horse_age, weight, race_place, distance, prize, win_odd, draw, entraineur, proprietaire, sex]\n",
      "Index: []\n",
      "La mise à l'échelle les données: \n",
      "[]\n",
      "------------------------------------------------------------------------------------------\n"
     ]
    },
    {
     "ename": "ValueError",
     "evalue": "Found array with 0 sample(s) (shape=(0, 7)) while a minimum of 1 is required by StandardScaler.",
     "output_type": "error",
     "traceback": [
      "\u001b[1;31m---------------------------------------------------------------------------\u001b[0m",
      "\u001b[1;31mValueError\u001b[0m                                Traceback (most recent call last)",
      "\u001b[1;32m<ipython-input-5-927507604f9a>\u001b[0m in \u001b[0;36m<module>\u001b[1;34m\u001b[0m\n\u001b[0;32m      1\u001b[0m \u001b[0mstart\u001b[0m \u001b[1;33m=\u001b[0m \u001b[0mtime\u001b[0m\u001b[1;33m(\u001b[0m\u001b[1;33m)\u001b[0m\u001b[1;33m\u001b[0m\u001b[1;33m\u001b[0m\u001b[0m\n\u001b[0;32m      2\u001b[0m \u001b[1;33m\u001b[0m\u001b[0m\n\u001b[1;32m----> 3\u001b[1;33m \u001b[0mpred\u001b[0m\u001b[1;33m.\u001b[0m\u001b[0mpredictionChevauxCourse\u001b[0m\u001b[1;33m(\u001b[0m\u001b[0mdataFile\u001b[0m\u001b[1;33m)\u001b[0m\u001b[1;33m\u001b[0m\u001b[1;33m\u001b[0m\u001b[0m\n\u001b[0m\u001b[0;32m      4\u001b[0m \u001b[1;33m\u001b[0m\u001b[0m\n\u001b[0;32m      5\u001b[0m \u001b[0mend\u001b[0m \u001b[1;33m=\u001b[0m \u001b[0mtime\u001b[0m\u001b[1;33m(\u001b[0m\u001b[1;33m)\u001b[0m\u001b[1;33m\u001b[0m\u001b[1;33m\u001b[0m\u001b[0m\n",
      "\u001b[1;32m~\\JupyterNotebook\\Web_scraping\\predictionHorseRace.py\u001b[0m in \u001b[0;36mpredictionChevauxCourse\u001b[1;34m(dataFile)\u001b[0m\n\u001b[0;32m    153\u001b[0m     \u001b[0mprint\u001b[0m\u001b[1;33m(\u001b[0m\u001b[0mX_deploy\u001b[0m\u001b[1;33m)\u001b[0m\u001b[1;33m\u001b[0m\u001b[1;33m\u001b[0m\u001b[0m\n\u001b[0;32m    154\u001b[0m     \u001b[0mprint\u001b[0m\u001b[1;33m(\u001b[0m\u001b[1;34m'---'\u001b[0m\u001b[1;33m*\u001b[0m\u001b[1;36m30\u001b[0m\u001b[1;33m)\u001b[0m\u001b[1;33m\u001b[0m\u001b[1;33m\u001b[0m\u001b[0m\n\u001b[1;32m--> 155\u001b[1;33m     \u001b[0mX_deploy\u001b[0m \u001b[1;33m=\u001b[0m \u001b[0msc\u001b[0m\u001b[1;33m.\u001b[0m\u001b[0mtransform\u001b[0m\u001b[1;33m(\u001b[0m\u001b[0mX_deploy\u001b[0m\u001b[1;33m)\u001b[0m\u001b[1;33m\u001b[0m\u001b[1;33m\u001b[0m\u001b[0m\n\u001b[0m\u001b[0;32m    156\u001b[0m     \u001b[1;31m# print(X_deploy)\u001b[0m\u001b[1;33m\u001b[0m\u001b[1;33m\u001b[0m\u001b[1;33m\u001b[0m\u001b[0m\n\u001b[0;32m    157\u001b[0m     \u001b[0mprint\u001b[0m\u001b[1;33m(\u001b[0m\u001b[1;34m'---'\u001b[0m\u001b[1;33m*\u001b[0m\u001b[1;36m30\u001b[0m\u001b[1;33m)\u001b[0m\u001b[1;33m\u001b[0m\u001b[1;33m\u001b[0m\u001b[0m\n",
      "\u001b[1;32mC:\\ProgramData\\Anaconda3\\lib\\site-packages\\sklearn\\preprocessing\\_data.py\u001b[0m in \u001b[0;36mtransform\u001b[1;34m(self, X, copy)\u001b[0m\n\u001b[0;32m    793\u001b[0m         X = check_array(X, accept_sparse='csr', copy=copy,\n\u001b[0;32m    794\u001b[0m                         \u001b[0mestimator\u001b[0m\u001b[1;33m=\u001b[0m\u001b[0mself\u001b[0m\u001b[1;33m,\u001b[0m \u001b[0mdtype\u001b[0m\u001b[1;33m=\u001b[0m\u001b[0mFLOAT_DTYPES\u001b[0m\u001b[1;33m,\u001b[0m\u001b[1;33m\u001b[0m\u001b[1;33m\u001b[0m\u001b[0m\n\u001b[1;32m--> 795\u001b[1;33m                         force_all_finite='allow-nan')\n\u001b[0m\u001b[0;32m    796\u001b[0m \u001b[1;33m\u001b[0m\u001b[0m\n\u001b[0;32m    797\u001b[0m         \u001b[1;32mif\u001b[0m \u001b[0msparse\u001b[0m\u001b[1;33m.\u001b[0m\u001b[0missparse\u001b[0m\u001b[1;33m(\u001b[0m\u001b[0mX\u001b[0m\u001b[1;33m)\u001b[0m\u001b[1;33m:\u001b[0m\u001b[1;33m\u001b[0m\u001b[1;33m\u001b[0m\u001b[0m\n",
      "\u001b[1;32mC:\\ProgramData\\Anaconda3\\lib\\site-packages\\sklearn\\utils\\validation.py\u001b[0m in \u001b[0;36mcheck_array\u001b[1;34m(array, accept_sparse, accept_large_sparse, dtype, order, copy, force_all_finite, ensure_2d, allow_nd, ensure_min_samples, ensure_min_features, warn_on_dtype, estimator)\u001b[0m\n\u001b[0;32m    584\u001b[0m                              \u001b[1;34m\" minimum of %d is required%s.\"\u001b[0m\u001b[1;33m\u001b[0m\u001b[1;33m\u001b[0m\u001b[0m\n\u001b[0;32m    585\u001b[0m                              % (n_samples, array.shape, ensure_min_samples,\n\u001b[1;32m--> 586\u001b[1;33m                                 context))\n\u001b[0m\u001b[0;32m    587\u001b[0m \u001b[1;33m\u001b[0m\u001b[0m\n\u001b[0;32m    588\u001b[0m     \u001b[1;32mif\u001b[0m \u001b[0mensure_min_features\u001b[0m \u001b[1;33m>\u001b[0m \u001b[1;36m0\u001b[0m \u001b[1;32mand\u001b[0m \u001b[0marray\u001b[0m\u001b[1;33m.\u001b[0m\u001b[0mndim\u001b[0m \u001b[1;33m==\u001b[0m \u001b[1;36m2\u001b[0m\u001b[1;33m:\u001b[0m\u001b[1;33m\u001b[0m\u001b[1;33m\u001b[0m\u001b[0m\n",
      "\u001b[1;31mValueError\u001b[0m: Found array with 0 sample(s) (shape=(0, 7)) while a minimum of 1 is required by StandardScaler."
     ]
    }
   ],
   "source": [
    "start = time()\n",
    "\n",
    "pred.predictionChevauxCourse(dataFile)\n",
    "\n",
    "end = time()\n",
    "\n",
    "running_time = end - start\n",
    "print('time cost: %.5f sec' %running_time)"
   ]
  },
  {
   "cell_type": "code",
   "execution_count": null,
   "metadata": {},
   "outputs": [],
   "source": [
    "\n",
    "float(303/60)"
   ]
  },
  {
   "cell_type": "code",
   "execution_count": null,
   "metadata": {},
   "outputs": [],
   "source": []
  }
 ],
 "metadata": {
  "kernelspec": {
   "display_name": "Python 3",
   "language": "python",
   "name": "python3"
  },
  "language_info": {
   "codemirror_mode": {
    "name": "ipython",
    "version": 3
   },
   "file_extension": ".py",
   "mimetype": "text/x-python",
   "name": "python",
   "nbconvert_exporter": "python",
   "pygments_lexer": "ipython3",
   "version": "3.7.4"
  }
 },
 "nbformat": 4,
 "nbformat_minor": 2
}
